{
 "cells": [
  {
   "cell_type": "code",
   "execution_count": 1,
   "metadata": {},
   "outputs": [],
   "source": [
    "# Arguments = (athlete_id, activity_type)\n",
    "\n",
    "\n",
    "# Audrey - 18301580\n",
    "# Ethan - 22985222\n",
    "# Amy - 23312763\n",
    "\n",
    "athlete_id = 23312763\n",
    "\n",
    "# 'Ride' or 'Run'\n",
    "\n",
    "activity_type = 'Ride' "
   ]
  },
  {
   "cell_type": "code",
   "execution_count": 2,
   "metadata": {},
   "outputs": [
    {
     "ename": "ModuleNotFoundError",
     "evalue": "No module named 'folium'",
     "output_type": "error",
     "traceback": [
      "\u001b[1;31m---------------------------------------------------------------------------\u001b[0m",
      "\u001b[1;31mModuleNotFoundError\u001b[0m                       Traceback (most recent call last)",
      "\u001b[1;32m<ipython-input-2-63923bb498d3>\u001b[0m in \u001b[0;36m<module>\u001b[1;34m\u001b[0m\n\u001b[0;32m      2\u001b[0m \u001b[1;32mimport\u001b[0m \u001b[0mpandas\u001b[0m \u001b[1;32mas\u001b[0m \u001b[0mpd\u001b[0m\u001b[1;33m\u001b[0m\u001b[1;33m\u001b[0m\u001b[0m\n\u001b[0;32m      3\u001b[0m \u001b[1;32mimport\u001b[0m \u001b[0mnumpy\u001b[0m \u001b[1;32mas\u001b[0m \u001b[0mnp\u001b[0m\u001b[1;33m\u001b[0m\u001b[1;33m\u001b[0m\u001b[0m\n\u001b[1;32m----> 4\u001b[1;33m \u001b[1;32mimport\u001b[0m \u001b[0mfolium\u001b[0m\u001b[1;33m\u001b[0m\u001b[1;33m\u001b[0m\u001b[0m\n\u001b[0m\u001b[0;32m      5\u001b[0m \u001b[1;33m\u001b[0m\u001b[0m\n\u001b[0;32m      6\u001b[0m \u001b[1;31m# Create map\u001b[0m\u001b[1;33m\u001b[0m\u001b[1;33m\u001b[0m\u001b[1;33m\u001b[0m\u001b[0m\n",
      "\u001b[1;31mModuleNotFoundError\u001b[0m: No module named 'folium'"
     ]
    }
   ],
   "source": [
    "import os\n",
    "import pandas as pd\n",
    "import numpy as np\n",
    "import folium\n",
    "\n",
    "# Create map\n",
    "\n",
    "strava_map = folium.Map( location=[52.197226, 0.125609], zoom_start=10, tiles=None)\n",
    "folium.TileLayer('openstreetmap', name='OpenStreet Map').add_to(strava_map)\n",
    "folium.TileLayer('cartodbdark_matter').add_to(strava_map)\n",
    "\n",
    "# Get coordinates\n",
    "\n",
    "from Strava.StravaData import StravaData\n",
    "\n",
    "strava_data = StravaData(athlete_id=athlete_id)\n",
    "\n",
    "coordinates = []\n",
    "num_activites = 0\n",
    "\n",
    "for id in strava_data.activities.index:\n",
    "    if strava_data.activities.loc[id, 'Activity Type'] == activity_type:\n",
    "        file = os.path.join(strava_data.activity_folder, f\"{id}.csv\")\n",
    "        if os.path.exists(file):\n",
    "            data = pd.read_csv(file, index_col=0)\n",
    "            coordinates = []\n",
    "            for index in data.index:\n",
    "                coordinates.append([float(data.loc[index, 'position_lat']),\n",
    "                                    float(data.loc[index, 'position_long'])])\n",
    "\n",
    "            if len(coordinates) > 0:\n",
    "                num_activites += 1\n",
    "                \n",
    "                p = folium.Popup(html=f\"{id}\")\n",
    "                folium.PolyLine(coordinates, popup=p, color='red', weight=2, opacity=0.2).add_to(strava_map)\n",
    "\n",
    "# Display map\n",
    "strava_map"
   ]
  },
  {
   "cell_type": "code",
   "execution_count": null,
   "metadata": {},
   "outputs": [],
   "source": []
  }
 ],
 "metadata": {
  "kernelspec": {
   "display_name": "Python 3",
   "language": "python",
   "name": "python3"
  },
  "language_info": {
   "codemirror_mode": {
    "name": "ipython",
    "version": 3
   },
   "file_extension": ".py",
   "mimetype": "text/x-python",
   "name": "python",
   "nbconvert_exporter": "python",
   "pygments_lexer": "ipython3",
   "version": "3.7.6"
  }
 },
 "nbformat": 4,
 "nbformat_minor": 4
}
